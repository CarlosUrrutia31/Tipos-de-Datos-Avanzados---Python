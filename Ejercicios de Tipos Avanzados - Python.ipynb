{
 "cells": [
  {
   "cell_type": "markdown",
   "metadata": {},
   "source": [
    "# Ejercicios Tipos avanzados\n",
    "\n"
   ]
  },
  {
   "cell_type": "markdown",
   "metadata": {},
   "source": [
    "## Ejercicios de tipos avanzados"
   ]
  },
  {
   "cell_type": "markdown",
   "metadata": {},
   "source": [
    "**1) Trabajemos con listas y tuplas**\n",
    "* Crea una lista y una tupla que contenga strings (al menos 3 elementos). Tematica libre, sobre lo que quieras, vehiculos, comida, música, etc.\n",
    "* Muestra la lista y la tupla\n",
    "* Muestra el 2º elemento de la lista y el penúltimo de la tupla\n",
    "* Modifica (si se puede) algún elemento de la lista y de la tupla. Y mostrar el resultado\n",
    "* Muestra el tamaño de la lista y de la tupla\n",
    "* Realiza una búsqueda de un elemento dentro de la lista y de la tupla. Mostrar si devuelve True o False\n",
    "* Añade (si se puede) algún elemento a la lista y a la tupla. Mostrar de nuevo la lista y la tupla para verificar si se ha realizado correctamente la acción.\n",
    "* Borra o elimina (si se puede) el contenido de la lista y de la tupla. Mosstrar de nuevo la lista y la tupla para verificar si se ha realizado correctamente la acción\n",
    "\n"
   ]
  },
  {
   "cell_type": "code",
   "execution_count": 1,
   "metadata": {},
   "outputs": [
    {
     "name": "stdout",
     "output_type": "stream",
     "text": [
      "['Alex', 'Rocio', 'Francia', 2022]\n"
     ]
    }
   ],
   "source": [
    "viaje = [\"Alex\",\"Rocio\", \"Francia\", 2022]\n",
    "print(viaje)"
   ]
  },
  {
   "cell_type": "code",
   "execution_count": 2,
   "metadata": {},
   "outputs": [
    {
     "name": "stdout",
     "output_type": "stream",
     "text": [
      "('desayuno', 'almuerzo', 'cena')\n"
     ]
    }
   ],
   "source": [
    "comida = (\"desayuno\",\"almuerzo\", \"cena\")\n",
    "print(comida)"
   ]
  },
  {
   "cell_type": "code",
   "execution_count": 8,
   "metadata": {},
   "outputs": [
    {
     "name": "stdout",
     "output_type": "stream",
     "text": [
      "['Alex', 'Rocio', 'Francia', 2022]\n",
      "Rocio\n"
     ]
    }
   ],
   "source": [
    "print(viaje)\n",
    "print(viaje[1])\n",
    "#Mostrando el 2º elemento de la lista"
   ]
  },
  {
   "cell_type": "code",
   "execution_count": 9,
   "metadata": {},
   "outputs": [
    {
     "name": "stdout",
     "output_type": "stream",
     "text": [
      "('desayuno', 'almuerzo', 'cena')\n",
      "almuerzo\n"
     ]
    }
   ],
   "source": [
    "print(comida)\n",
    "print(comida[1])\n",
    "# Mostrando el penúltimo elemento de la tupla"
   ]
  },
  {
   "cell_type": "code",
   "execution_count": 10,
   "metadata": {},
   "outputs": [
    {
     "name": "stdout",
     "output_type": "stream",
     "text": [
      "['Alex', 'Rocio', 'Francia', 2022]\n",
      "['Alex', 'Rocio', 'Portugal', 2022]\n"
     ]
    }
   ],
   "source": [
    "print(viaje)\n",
    "viaje[2] = \"Portugal\"\n",
    "print(viaje)\n",
    "# Modifico el elemento 2 de la lista por otro string accediendo a su índice"
   ]
  },
  {
   "cell_type": "code",
   "execution_count": 11,
   "metadata": {},
   "outputs": [
    {
     "name": "stdout",
     "output_type": "stream",
     "text": [
      "('desayuno', 'almuerzo', 'cena')\n"
     ]
    }
   ],
   "source": [
    "print(comida)\n",
    "# Las tuplas no son modificables"
   ]
  },
  {
   "cell_type": "code",
   "execution_count": 12,
   "metadata": {},
   "outputs": [
    {
     "name": "stdout",
     "output_type": "stream",
     "text": [
      "4\n"
     ]
    }
   ],
   "source": [
    "print(len(viaje))\n",
    "# El tamaño de la lista, numero de elementos"
   ]
  },
  {
   "cell_type": "code",
   "execution_count": 13,
   "metadata": {},
   "outputs": [
    {
     "name": "stdout",
     "output_type": "stream",
     "text": [
      "3\n"
     ]
    }
   ],
   "source": [
    "print(len(comida))\n",
    "# El tamaño de la tupla, numero de elementos"
   ]
  },
  {
   "cell_type": "code",
   "execution_count": 14,
   "metadata": {},
   "outputs": [
    {
     "name": "stdout",
     "output_type": "stream",
     "text": [
      "['Alex', 'Rocio', 'Portugal', 2022]\n",
      "True\n"
     ]
    }
   ],
   "source": [
    "print(viaje)\n",
    "print(\"Alex\" in viaje)\n",
    "# Realizo una busqueda dentro de la lista empleando el operador in"
   ]
  },
  {
   "cell_type": "code",
   "execution_count": 15,
   "metadata": {},
   "outputs": [
    {
     "name": "stdout",
     "output_type": "stream",
     "text": [
      "('desayuno', 'almuerzo', 'cena')\n",
      "False\n"
     ]
    }
   ],
   "source": [
    "print(comida)\n",
    "print(\"merienda\" in comida)\n",
    "# Realizo una busqueda dentro de la tupla empleando el operador in"
   ]
  },
  {
   "cell_type": "code",
   "execution_count": 16,
   "metadata": {},
   "outputs": [
    {
     "name": "stdout",
     "output_type": "stream",
     "text": [
      "['Alex', 'Rocio', 'Francia', 2022, 'Isabel', 12, 1500]\n"
     ]
    }
   ],
   "source": [
    "viaje = [\"Alex\",\"Rocio\", \"Francia\", 2022] + [\"Isabel\", 12, 1500]\n",
    "print(viaje)\n",
    "# Añado elementos a la lista original"
   ]
  },
  {
   "cell_type": "code",
   "execution_count": 17,
   "metadata": {},
   "outputs": [
    {
     "name": "stdout",
     "output_type": "stream",
     "text": [
      "('desayuno', 'almuerzo', 'cena', 9, 14, 21)\n"
     ]
    }
   ],
   "source": [
    "comida = comida + (9, 14, 21)\n",
    "print(comida)\n",
    "# Añado elementos a la tupla original"
   ]
  },
  {
   "cell_type": "code",
   "execution_count": 18,
   "metadata": {},
   "outputs": [
    {
     "name": "stdout",
     "output_type": "stream",
     "text": [
      "['Alex', 'Rocio', 'Francia', 2022, 'Isabel', 12, 1500]\n",
      "[]\n"
     ]
    }
   ],
   "source": [
    "print(viaje)\n",
    "viaje = []\n",
    "print(viaje)\n",
    "# Elimino el contenido de la lista asignando una lista vacia"
   ]
  },
  {
   "cell_type": "code",
   "execution_count": 19,
   "metadata": {},
   "outputs": [
    {
     "name": "stdout",
     "output_type": "stream",
     "text": [
      "('desayuno', 'almuerzo', 'cena', 9, 14, 21)\n",
      "()\n"
     ]
    }
   ],
   "source": [
    "print(comida)\n",
    "comida = ()\n",
    "print(comida)\n",
    "# Elimino el contenido de la tupla asignando una tupla vacia"
   ]
  },
  {
   "cell_type": "markdown",
   "metadata": {},
   "source": [
    "**2) Trabajemos con sets y diccionarios**\n",
    "* Crea una set y un diccionario que contengan strings (al menos 3 elementos en el caso del set y 3 conjuntos de clave:valor en el caso del diccionario). Tematica libre, sobre lo que quieras, vehiculos, comida, música, etc.\n",
    "* Muestra el set y el diccionario\n",
    "* Muestra (si se puede) el 2º elemento del set y el valor del primer clave-valor del diccionario\n",
    "* Modifica (si se puede) algún elemento del set o del diccionario. Y mostrar el resultado\n",
    "* Muestra el tamaño del set y del diccionario\n",
    "* Realiza una búsqueda de un elemento dentro del set y dentro del diccionario. Mostrar si devuelve True o False\n",
    "* Añade (si se puede) algún elemento al set y algun clave-valor al diccionario. Mostrar de nuevo el set y el diccionario para verificar si se ha realizado correctamente la acción.\n",
    "* Borra o elimina (si se puede) el contenido del set y del diccionario. Mosstrar de nuevo el set y el diccionario para verificar si se ha realizado correctamente la acción\n",
    "\n"
   ]
  },
  {
   "cell_type": "code",
   "execution_count": 1,
   "metadata": {},
   "outputs": [
    {
     "name": "stdout",
     "output_type": "stream",
     "text": [
      "{'Alex', 'Macarena', 'Rocio', 'Javi'}\n"
     ]
    }
   ],
   "source": [
    "nombres = {\"Alex\", \"Rocio\", \"Macarena\", \"Javi\"}\n",
    "print(nombres)"
   ]
  },
  {
   "cell_type": "code",
   "execution_count": 7,
   "metadata": {},
   "outputs": [
    {
     "name": "stdout",
     "output_type": "stream",
     "text": [
      "{'marca': 'Fiat', 'modelo': 'Punto', 'año': 2008, 'precio': 4000}\n"
     ]
    }
   ],
   "source": [
    "vehiculo = {\n",
    "    \"marca\" : \"Fiat\",\n",
    "    \"modelo\" : \"Punto\",\n",
    "    \"año\" : 2008,\n",
    "    \"precio\" : 4000\n",
    "}\n",
    "print(vehiculo)"
   ]
  },
  {
   "cell_type": "code",
   "execution_count": 8,
   "metadata": {},
   "outputs": [
    {
     "name": "stdout",
     "output_type": "stream",
     "text": [
      "<class 'set'>\n",
      "<class 'dict'>\n"
     ]
    }
   ],
   "source": [
    "print(type(nombres))\n",
    "print(type(vehiculo))"
   ]
  },
  {
   "cell_type": "code",
   "execution_count": 11,
   "metadata": {},
   "outputs": [
    {
     "name": "stdout",
     "output_type": "stream",
     "text": [
      "{'Alex', 'Macarena', 'Rocio', 'Javi'}\n"
     ]
    }
   ],
   "source": [
    "print(nombres)\n",
    "# Los set no tienen sistema de índices por lo que no puedo mostrar el 2º elemento"
   ]
  },
  {
   "cell_type": "code",
   "execution_count": 12,
   "metadata": {},
   "outputs": [
    {
     "name": "stdout",
     "output_type": "stream",
     "text": [
      "Fiat\n"
     ]
    }
   ],
   "source": [
    "valorquemeinteresa = vehiculo[\"marca\"]\n",
    "print(valorquemeinteresa)"
   ]
  },
  {
   "cell_type": "code",
   "execution_count": 16,
   "metadata": {},
   "outputs": [
    {
     "name": "stdout",
     "output_type": "stream",
     "text": [
      "{'Alex', 'Macarena', 'Rocio', 'Javi'}\n"
     ]
    }
   ],
   "source": [
    "print(nombres)\n",
    "# El set no es modificable pero si ampliable"
   ]
  },
  {
   "cell_type": "code",
   "execution_count": 17,
   "metadata": {},
   "outputs": [
    {
     "name": "stdout",
     "output_type": "stream",
     "text": [
      "{'marca': 'Fiat', 'modelo': 'Punto', 'año': 2008, 'precio': 3500}\n"
     ]
    }
   ],
   "source": [
    "vehiculo [\"precio\"] = 3500\n",
    "print(vehiculo)\n",
    "# El valor modificado del dict es el precio"
   ]
  },
  {
   "cell_type": "code",
   "execution_count": 19,
   "metadata": {},
   "outputs": [
    {
     "name": "stdout",
     "output_type": "stream",
     "text": [
      "4\n"
     ]
    }
   ],
   "source": [
    "print(len(nombres))\n",
    "# Tamaño del set"
   ]
  },
  {
   "cell_type": "code",
   "execution_count": 20,
   "metadata": {},
   "outputs": [
    {
     "name": "stdout",
     "output_type": "stream",
     "text": [
      "4\n"
     ]
    }
   ],
   "source": [
    "print(len(vehiculo))\n",
    "# Tamaño del dict"
   ]
  },
  {
   "cell_type": "code",
   "execution_count": 22,
   "metadata": {},
   "outputs": [
    {
     "name": "stdout",
     "output_type": "stream",
     "text": [
      "True\n"
     ]
    }
   ],
   "source": [
    "print(\"Alex\" in nombres)\n",
    "# Realizo una búsqueda de un elemento dentro del set con el operador in"
   ]
  },
  {
   "cell_type": "code",
   "execution_count": 23,
   "metadata": {},
   "outputs": [
    {
     "name": "stdout",
     "output_type": "stream",
     "text": [
      "False\n"
     ]
    }
   ],
   "source": [
    "print(\"Carmen\" in nombres)"
   ]
  },
  {
   "cell_type": "code",
   "execution_count": 24,
   "metadata": {},
   "outputs": [
    {
     "name": "stdout",
     "output_type": "stream",
     "text": [
      "True\n"
     ]
    }
   ],
   "source": [
    "print(\"modelo\" in vehiculo)\n",
    "# Realizo una búsqueda de una clave del dict con el operador in"
   ]
  },
  {
   "cell_type": "code",
   "execution_count": 25,
   "metadata": {},
   "outputs": [
    {
     "name": "stdout",
     "output_type": "stream",
     "text": [
      "False\n"
     ]
    }
   ],
   "source": [
    "print(\"estado\" in vehiculo)"
   ]
  },
  {
   "cell_type": "code",
   "execution_count": 26,
   "metadata": {},
   "outputs": [
    {
     "name": "stdout",
     "output_type": "stream",
     "text": [
      "{'Alex', 'Rocio', 'Javi', 'Juan', 'Macarena'}\n"
     ]
    }
   ],
   "source": [
    "nombres.add(\"Juan\")\n",
    "print(nombres)\n",
    "# Añado un elemento al set con la función .add() pero lo añade de manera arbitraria"
   ]
  },
  {
   "cell_type": "code",
   "execution_count": 27,
   "metadata": {},
   "outputs": [
    {
     "name": "stdout",
     "output_type": "stream",
     "text": [
      "{'marca': 'Fiat', 'modelo': 'Punto', 'año': 2008, 'precio': 3500, 'color': 'verde'}\n"
     ]
    }
   ],
   "source": [
    "vehiculo[\"color\"] = \"verde\"\n",
    "print(vehiculo)\n",
    "# Añado un elemento al dict gracias a la asignación"
   ]
  },
  {
   "cell_type": "code",
   "execution_count": 28,
   "metadata": {},
   "outputs": [
    {
     "name": "stdout",
     "output_type": "stream",
     "text": [
      "{'Alex', 'Rocio', 'Javi', 'Juan', 'Macarena'}\n",
      "{'marca': 'Fiat', 'modelo': 'Punto', 'año': 2008, 'precio': 3500, 'color': 'verde'}\n"
     ]
    }
   ],
   "source": [
    "print(nombres)\n",
    "print(vehiculo)"
   ]
  },
  {
   "cell_type": "code",
   "execution_count": 29,
   "metadata": {},
   "outputs": [
    {
     "name": "stdout",
     "output_type": "stream",
     "text": [
      "set()\n"
     ]
    }
   ],
   "source": [
    "nombres.clear()\n",
    "print(nombres)"
   ]
  },
  {
   "cell_type": "code",
   "execution_count": 30,
   "metadata": {},
   "outputs": [
    {
     "name": "stdout",
     "output_type": "stream",
     "text": [
      "{}\n"
     ]
    }
   ],
   "source": [
    "vehiculo.clear()\n",
    "print(vehiculo)\n",
    "# Tanto el set como el dict comparten el método .clear() para el borrado total de la información"
   ]
  },
  {
   "cell_type": "code",
   "execution_count": 31,
   "metadata": {},
   "outputs": [
    {
     "name": "stdout",
     "output_type": "stream",
     "text": [
      "set()\n",
      "{}\n"
     ]
    }
   ],
   "source": [
    "print(nombres)\n",
    "print(vehiculo)"
   ]
  },
  {
   "cell_type": "markdown",
   "metadata": {},
   "source": [
    "**3) Realizar un programa que pida al usuario 3 números que pueden ser flotantes (no es necesario realizar bucles aún, podemos repetir el código), estos números se deberán introducir en una lista. Cuando se haya finalizado la introducción de los datos, se mostrará el sumatorio de toda la lista. Guardar el sumatorio en una variable que se llame \"sumatorio\"**\n",
    "\n",
    "*Ayuda: Existe una función llamada sum(lista) ¡Pruébalo!*"
   ]
  },
  {
   "cell_type": "code",
   "execution_count": 13,
   "metadata": {},
   "outputs": [
    {
     "name": "stdout",
     "output_type": "stream",
     "text": [
      "Introduzca su nombre:Alejandro\n",
      "Introduzca su apellido:Campos\n",
      "Salario de los últimos 3 meses:2000.15,2000.45,2105.87\n",
      "['Alejandro', 'Campos', '2000.15,2000.45,2105.87']\n"
     ]
    }
   ],
   "source": [
    "nombre = input(\"Introduzca su nombre:\")\n",
    "apellido = input(\"Introduzca su apellido:\")\n",
    "salario = input(\"Salario de los últimos 3 meses:\")\n",
    "datos = [nombre,apellido,salario]\n",
    "print(datos)"
   ]
  },
  {
   "cell_type": "code",
   "execution_count": 14,
   "metadata": {},
   "outputs": [
    {
     "name": "stdout",
     "output_type": "stream",
     "text": [
      "6106.47\n"
     ]
    }
   ],
   "source": [
    "salario = [2000.15,2000.45,2105.87]\n",
    "sumatorio = sum(salario)\n",
    "print(sumatorio)"
   ]
  },
  {
   "cell_type": "markdown",
   "metadata": {},
   "source": [
    "**4) Sobre el ejercicio anterior, queremos mostrar la media aritmética de los elementos de esa lista. Indicar la instrucción necesaria para obtenerla.**\n",
    "\n",
    "*En este caso sabemos que el número de elementos que ha introducido el usuario es 3, pero en otra ocasión podría ser diferente, por lo tanto, no hagáis referencia al número 3 en ningún sitio*"
   ]
  },
  {
   "cell_type": "code",
   "execution_count": 17,
   "metadata": {},
   "outputs": [
    {
     "name": "stdout",
     "output_type": "stream",
     "text": [
      "La media aritmetica es = 2035.49\n"
     ]
    }
   ],
   "source": [
    "import numpy\n",
    "salario = [2000.15,2000.45,2105.87]\n",
    "print(\"La media aritmetica es =\",numpy.mean(salario))\n",
    "# He usado la funcion numpy.mean() para calcular la media aritmética sin hacer referencia al número 3"
   ]
  },
  {
   "cell_type": "markdown",
   "metadata": {},
   "source": [
    "**5) Dada la siguiente matriz de notas (una matriz es una lista de listas anidadas) se observa que cada fila es un listado de notas de un alumno, donde en la última posición de cada lista se encuentra el sumatorio de todas las notas anteriores de esa lista. Pero apreciamos que hay varios errores en los sumatorios de varios alumnos, utilizar la técnica de slicing para acceder a estas posiciones y modificar los valores erroneos de la forma más automatizada posible.**\n",
    "\n",
    "* No vale poner directamente los valores:\n",
    "```python\n",
    "notas[1][3] = 60\n",
    "notas[3][3] = 120\n",
    "```\n",
    "* Hay que buscar una forma automatizada de acceder y modificar esos valores"
   ]
  },
  {
   "cell_type": "code",
   "execution_count": 31,
   "metadata": {},
   "outputs": [],
   "source": [
    "notas = [ \n",
    "    [10, 10, 10, 30],\n",
    "    [20, 20, 20, 70],\n",
    "    [30, 30, 30, 90],\n",
    "    [40, 40, 40, 130]\n",
    "]"
   ]
  },
  {
   "cell_type": "code",
   "execution_count": 32,
   "metadata": {},
   "outputs": [
    {
     "name": "stdout",
     "output_type": "stream",
     "text": [
      "[[10, 10, 10, 30], [20, 20, 20, 70], [30, 30, 30, 90], [40, 40, 40, 130]]\n"
     ]
    }
   ],
   "source": [
    "print(notas)"
   ]
  },
  {
   "cell_type": "code",
   "execution_count": 56,
   "metadata": {},
   "outputs": [
    {
     "name": "stdout",
     "output_type": "stream",
     "text": [
      "[[10, 10, 10, 30], [20, 20, 20, 70], [30, 30, 30, 90], [40, 40, 40, 130]]\n",
      "[[10, 10, 10, 30], [20, 20, 20, 60], [30, 30, 30, 90], [40, 40, 40, 120]]\n"
     ]
    }
   ],
   "source": [
    "notas = [ \n",
    "    [10, 10, 10, 30],\n",
    "    [20, 20, 20, 70],\n",
    "    [30, 30, 30, 90],\n",
    "    [40, 40, 40, 130]\n",
    "]\n",
    "print(notas)\n",
    "notas[1][3] = 60\n",
    "notas[3][3] = 120\n",
    "print(notas)\n",
    "# He modificado esos valores accediendo al índice de la lista"
   ]
  },
  {
   "cell_type": "markdown",
   "metadata": {},
   "source": [
    "**6) Supongamos que obtenemos una cadena de texto corrupta, esta al revés. Esta cadena contiene el nombre y el año de nacimiento de una persona. Formatear dicha cadena para obtener el siguiente formato:**\n",
    "\n",
    "* Empleado ***Nombre*** ***Apellido*** nacido en el año ***Año***\n",
    "\n",
    "*Pista: Para invertir el orden una cadena usando técnicas de slicing se puede utilizar un tercer índice -1: cadena[::-1]*\n"
   ]
  },
  {
   "cell_type": "code",
   "execution_count": 64,
   "metadata": {},
   "outputs": [],
   "source": [
    "cadena = \"zereP solraC,5891\""
   ]
  },
  {
   "cell_type": "code",
   "execution_count": 65,
   "metadata": {},
   "outputs": [
    {
     "name": "stdout",
     "output_type": "stream",
     "text": [
      "1985,Carlos Perez\n"
     ]
    }
   ],
   "source": [
    "print(cadena[::-1])"
   ]
  },
  {
   "cell_type": "code",
   "execution_count": 116,
   "metadata": {},
   "outputs": [
    {
     "name": "stdout",
     "output_type": "stream",
     "text": [
      "Empleado Carlos Perez nacido en el año 1985\n"
     ]
    }
   ],
   "source": [
    "print(cadena)"
   ]
  },
  {
   "cell_type": "markdown",
   "metadata": {},
   "source": [
    "**7) Practiquemos con conjuntos:**\n",
    "* Crea un conjunto llamado mamíferos que tenga los elementos Gato, León, Caballo, Ballena y Tortuga\n",
    "* Crea un conjunto llamado peces que tenga los elementos Ballena y Sardina\n",
    "* Borra la Tortuga del conjunto mamiíferos\n",
    "* Añade el Pez Payaso al conjunto peces\n",
    "* Imprime los conjuntos por pantalla\n",
    "* Imprime por pantalla los elementos que se encuentren en ambos conjuntos, es decir, que sean mamíferos y peces"
   ]
  },
  {
   "cell_type": "code",
   "execution_count": 69,
   "metadata": {},
   "outputs": [
    {
     "name": "stdout",
     "output_type": "stream",
     "text": [
      "{'Tortuga', 'Ballena', 'León', 'Caballo', 'Gato'}\n"
     ]
    }
   ],
   "source": [
    "mamíferos = {\"Gato\", \"León\", \"Caballo\", \"Ballena\", \"Tortuga\"}\n",
    "print(mamíferos)"
   ]
  },
  {
   "cell_type": "code",
   "execution_count": 70,
   "metadata": {},
   "outputs": [
    {
     "name": "stdout",
     "output_type": "stream",
     "text": [
      "{'Sardina', 'Ballena'}\n"
     ]
    }
   ],
   "source": [
    "peces = {\"Ballena\",\"Sardina\"}\n",
    "print(peces)"
   ]
  },
  {
   "cell_type": "code",
   "execution_count": 72,
   "metadata": {},
   "outputs": [
    {
     "name": "stdout",
     "output_type": "stream",
     "text": [
      "{'Tortuga', 'Ballena', 'León', 'Caballo', 'Gato'}\n",
      "{'Ballena', 'León', 'Caballo', 'Gato'}\n"
     ]
    }
   ],
   "source": [
    "mamíferos = {\"Gato\", \"León\", \"Caballo\", \"Ballena\", \"Tortuga\"}\n",
    "print(mamíferos)\n",
    "mamíferos.remove(\"Tortuga\")\n",
    "print(mamíferos)\n",
    "# He eliminado el item Tortuga del set utilizando .remove()"
   ]
  },
  {
   "cell_type": "code",
   "execution_count": 73,
   "metadata": {},
   "outputs": [
    {
     "name": "stdout",
     "output_type": "stream",
     "text": [
      "{'Sardina', 'Ballena'}\n",
      "{'Pez Payaso', 'Sardina', 'Ballena'}\n"
     ]
    }
   ],
   "source": [
    "peces = {\"Ballena\",\"Sardina\"}\n",
    "print(peces)\n",
    "peces.add(\"Pez Payaso\")\n",
    "print(peces)\n",
    "# He añadido el item Pez Payaso al set utilizando .add()"
   ]
  },
  {
   "cell_type": "code",
   "execution_count": 74,
   "metadata": {},
   "outputs": [
    {
     "name": "stdout",
     "output_type": "stream",
     "text": [
      "{'Ballena', 'León', 'Caballo', 'Gato'}\n",
      "{'Pez Payaso', 'Sardina', 'Ballena'}\n"
     ]
    }
   ],
   "source": [
    "print(mamíferos)\n",
    "print(peces)"
   ]
  },
  {
   "cell_type": "code",
   "execution_count": 75,
   "metadata": {},
   "outputs": [
    {
     "name": "stdout",
     "output_type": "stream",
     "text": [
      "{'Ballena', 'León', 'Caballo', 'Gato'} {'Pez Payaso', 'Sardina', 'Ballena'}\n"
     ]
    }
   ],
   "source": [
    "print(mamíferos,peces)"
   ]
  },
  {
   "cell_type": "markdown",
   "metadata": {},
   "source": [
    "**8) Practiquemos con diccionarios. Tenemos un diccionario que contiene una serie de productos. Realicemos las tres siguientes tareas:**\n",
    "* Ver productos\n",
    "* Subir el precio a todos los productos\n",
    "* Volver a ver todos los precios (para comprobar que el precio ha subido)\n",
    "\n",
    "Al inicio del programa, se mostrarán todos los productos, tienen que aparecer ordenados con el siguiente formato: <br><code>1 - Arduino - 30€</code><br>\n",
    "Posteriormente, a todos los productos se aplicará una subida del 50% a todos los precios de productos.<br>\n",
    "Y finalmente volveremos a mostrar todos los productos para comprobar la subida de precios."
   ]
  },
  {
   "cell_type": "code",
   "execution_count": 148,
   "metadata": {},
   "outputs": [],
   "source": [
    "productos = { \n",
    "    'id':[1,2,3], \n",
    "    'nombre1':['Arduino', 'RPi', 'Print 3D'], \n",
    "    'precio': [30, 70, 300] \n",
    "     }"
   ]
  },
  {
   "cell_type": "code",
   "execution_count": 149,
   "metadata": {},
   "outputs": [
    {
     "name": "stdout",
     "output_type": "stream",
     "text": [
      "{'id': [1, 2, 3], 'nombre1': ['Arduino', 'RPi', 'Print 3D'], 'precio': [30, 70, 300]}\n"
     ]
    }
   ],
   "source": [
    "print(productos)"
   ]
  },
  {
   "cell_type": "code",
   "execution_count": 150,
   "metadata": {},
   "outputs": [
    {
     "name": "stdout",
     "output_type": "stream",
     "text": [
      "{'id': [1, 2, 3], 'nombre1': ['Arduino', 'RPi', 'Print 3D'], 'precio': (50, 100, 500)}\n"
     ]
    }
   ],
   "source": [
    "productos[\"precio\"] = 50,100,500\n",
    "print(productos)\n",
    "# Precio subido a todos los productos"
   ]
  },
  {
   "cell_type": "code",
   "execution_count": 151,
   "metadata": {},
   "outputs": [
    {
     "name": "stdout",
     "output_type": "stream",
     "text": [
      "[50, 100, 500]\n"
     ]
    }
   ],
   "source": [
    "print(precio)"
   ]
  },
  {
   "cell_type": "code",
   "execution_count": 152,
   "metadata": {},
   "outputs": [
    {
     "name": "stdout",
     "output_type": "stream",
     "text": [
      "1 - Arduino - 50 €\n",
      "2 - RPI - 100 €\n",
      "3 - Print 3D - 500 €\n"
     ]
    }
   ],
   "source": [
    "print(\"1\",\"-\",\"Arduino\",\"-\",50,\"€\")\n",
    "print(\"2\",\"-\",\"RPI\",\"-\",100,\"€\")\n",
    "print(\"3\",\"-\",\"Print 3D\",\"-\",500,\"€\")"
   ]
  },
  {
   "cell_type": "code",
   "execution_count": 155,
   "metadata": {},
   "outputs": [
    {
     "name": "stdout",
     "output_type": "stream",
     "text": [
      "Subida de precio de 50% del producto Arduino: 75.0 €\n"
     ]
    }
   ],
   "source": [
    "pr1 = 50\n",
    "pr11 = pr1+pr1*0.5\n",
    "print(\"Subida de precio de 50% del producto Arduino:\",pr11,\"€\")"
   ]
  },
  {
   "cell_type": "code",
   "execution_count": 156,
   "metadata": {},
   "outputs": [
    {
     "name": "stdout",
     "output_type": "stream",
     "text": [
      "Subida de precio de 50% del producto RPI: 150.0 €\n"
     ]
    }
   ],
   "source": [
    "pr2 = 100\n",
    "pr22 = pr2+pr2*0.5\n",
    "print(\"Subida de precio de 50% del producto RPI:\",pr22,\"€\")"
   ]
  },
  {
   "cell_type": "code",
   "execution_count": 157,
   "metadata": {},
   "outputs": [
    {
     "name": "stdout",
     "output_type": "stream",
     "text": [
      "Subida de precio de 50% del producto Print 3D: 750.0 €\n"
     ]
    }
   ],
   "source": [
    "pr3 = 500\n",
    "pr33 = pr3+pr3*0.5\n",
    "print(\"Subida de precio de 50% del producto Print 3D:\",pr33,\"€\")"
   ]
  }
 ],
 "metadata": {
  "anaconda-cloud": {},
  "kernelspec": {
   "display_name": "Python 3 (ipykernel)",
   "language": "python",
   "name": "python3"
  },
  "language_info": {
   "codemirror_mode": {
    "name": "ipython",
    "version": 3
   },
   "file_extension": ".py",
   "mimetype": "text/x-python",
   "name": "python",
   "nbconvert_exporter": "python",
   "pygments_lexer": "ipython3",
   "version": "3.9.7"
  }
 },
 "nbformat": 4,
 "nbformat_minor": 1
}
